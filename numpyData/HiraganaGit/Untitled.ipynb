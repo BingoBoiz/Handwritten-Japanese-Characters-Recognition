{
 "cells": [
  {
   "cell_type": "code",
   "execution_count": 2,
   "id": "73998e77-72d6-4f8f-9437-c0cda65357cd",
   "metadata": {},
   "outputs": [
    {
     "name": "stdout",
     "output_type": "stream",
     "text": [
      "['DA' 'DA' 'DA' 'DA' 'DA' 'DA' 'DA' 'DA' 'DA' 'DA' 'DA' 'DA' 'DA' 'DA'\n",
      " 'DA' 'DA' 'DA' 'DA' 'DA' 'DA' 'HE' 'HE' 'HE' 'HE' 'HE' 'HE' 'HE' 'HE'\n",
      " 'HE' 'HE' 'HE' 'HE' 'HE' 'HE' 'HE' 'HE' 'HE' 'HE' 'HE' 'HE' 'TSU' 'TSU'\n",
      " 'TSU' 'TSU' 'TSU' 'TSU' 'TSU' 'TSU' 'TSU' 'TSU' 'TSU' 'TSU' 'TSU' 'TSU'\n",
      " 'TSU' 'TSU' 'TSU' 'TSU' 'TSU' 'TSU' 'SU' 'SU' 'SU' 'SU' 'SU' 'SU' 'SU'\n",
      " 'SU' 'SU' 'SU' 'SU' 'SU' 'SU' 'SU' 'SU' 'SU' 'SU' 'SU' 'SU' 'SU' 'NE'\n",
      " 'NE' 'NE' 'NE' 'NE' 'NE' 'NE' 'NE' 'NE' 'NE' 'NE' 'NE' 'NE' 'NE' 'NE'\n",
      " 'NE' 'NE' 'NE' 'NE' 'NE' 'MI' 'MI' 'MI' 'MI' 'MI' 'MI' 'MI' 'MI' 'MI'\n",
      " 'MI' 'MI' 'MI' 'MI' 'MI' 'MI' 'MI' 'MI' 'MI' 'MI' 'MI' 'ME' 'ME' 'ME'\n",
      " 'ME' 'ME' 'ME' 'ME' 'ME' 'ME' 'ME' 'ME' 'ME' 'ME' 'ME' 'ME' 'ME' 'ME'\n",
      " 'ME' 'ME' 'ME' 'YO' 'YO' 'YO' 'YO' 'YO' 'YO' 'YO' 'YO' 'YO' 'YO' 'YO'\n",
      " 'YO' 'YO' 'YO' 'YO' 'YO' 'YO' 'YO' 'YO' 'YO' 'MO' 'MO' 'MO' 'MO' 'MO'\n",
      " 'MO' 'MO' 'MO' 'MO' 'MO' 'MO' 'MO' 'MO' 'MO' 'MO' 'MO' 'MO' 'MO' 'MO'\n",
      " 'MO' 'NO' 'NO' 'NO' 'NO' 'NO' 'NO' 'NO' 'NO' 'NO' 'NO' 'NO' 'NO' 'NO'\n",
      " 'NO' 'NO' 'NO' 'NO' 'NO' 'NO' 'NO' 'RI' 'RI' 'RI' 'RI' 'RI' 'RI' 'RI'\n",
      " 'RI' 'RI' 'RI' 'RI' 'RI' 'RI' 'RI' 'RI' 'RI' 'RI' 'RI' 'RI' 'RI' 'MA'\n",
      " 'MA' 'MA' 'MA' 'MA' 'MA' 'MA' 'MA' 'MA' 'MA' 'MA' 'MA' 'MA' 'MA' 'MA'\n",
      " 'MA' 'MA' 'MA' 'MA' 'MA' 'U' 'U' 'U' 'U' 'U' 'U' 'U' 'U' 'U' 'U' 'U' 'U'\n",
      " 'U' 'U' 'U' 'U' 'U' 'U' 'U' 'U' 'SO' 'SO' 'SO' 'SO' 'SO' 'SO' 'SO' 'SO'\n",
      " 'SO' 'SO' 'SO' 'SO' 'SO' 'SO' 'SO' 'SO' 'SO' 'SO' 'SO' 'SO' 'KI' 'KI'\n",
      " 'KI' 'KI' 'KI' 'KI' 'KI' 'KI' 'KI' 'KI' 'KI' 'KI' 'KI' 'KI' 'KI' 'KI'\n",
      " 'KI' 'KI' 'KI' 'KI' 'PI' 'PI' 'PI' 'PI' 'PI' 'PI' 'PI' 'PI' 'PI' 'PI'\n",
      " 'PI' 'PI' 'PI' 'PI' 'PI' 'PI' 'PI' 'PI' 'PI' 'PI' 'HA' 'HA' 'HA' 'HA'\n",
      " 'HA' 'HA' 'HA' 'HA' 'HA' 'HA' 'HA' 'HA' 'HA' 'HA' 'HA' 'HA' 'HA' 'HA'\n",
      " 'HA' 'HA' 'YA' 'YA' 'YA' 'YA' 'YA' 'YA' 'YA' 'YA' 'YA' 'YA' 'YA' 'YA'\n",
      " 'YA' 'YA' 'YA' 'YA' 'YA' 'YA' 'YA' 'YA' 'I' 'I' 'I' 'I' 'I' 'I' 'I' 'I'\n",
      " 'I' 'I' 'I' 'I' 'I' 'I' 'I' 'I' 'I' 'I' 'I' 'I' 'TE' 'TE' 'TE' 'TE' 'TE'\n",
      " 'TE' 'TE' 'TE' 'TE' 'TE' 'TE' 'TE' 'TE' 'TE' 'TE' 'TE' 'TE' 'TE' 'TE'\n",
      " 'TE' 'RU' 'RU' 'RU' 'RU' 'RU' 'RU' 'RU' 'RU' 'RU' 'RU' 'RU' 'RU' 'RU'\n",
      " 'RU' 'RU' 'RU' 'RU' 'RU' 'RU' 'RU' 'KA' 'KA' 'KA' 'KA' 'KA' 'KA' 'KA'\n",
      " 'KA' 'KA' 'KA' 'KA' 'KA' 'KA' 'KA' 'KA' 'KA' 'KA' 'KA' 'KA' 'KA' 'MU'\n",
      " 'MU' 'MU' 'MU' 'MU' 'MU' 'MU' 'MU' 'MU' 'MU' 'MU' 'MU' 'MU' 'MU' 'MU'\n",
      " 'MU' 'MU' 'MU' 'MU' 'MU' 'N' 'N' 'N' 'N' 'N' 'N' 'N' 'N' 'N' 'N' 'N' 'N'\n",
      " 'N' 'N' 'N' 'N' 'N' 'N' 'N' 'N' 'E' 'E' 'E' 'E' 'E' 'E' 'E' 'E' 'E' 'E'\n",
      " 'E' 'E' 'E' 'E' 'E' 'E' 'E' 'E' 'E' 'E' 'A' 'A' 'A' 'A' 'A' 'A' 'A' 'A'\n",
      " 'A' 'A' 'A' 'A' 'A' 'A' 'A' 'A' 'A' 'A' 'A' 'A' 'FU' 'FU' 'FU' 'FU' 'FU'\n",
      " 'FU' 'FU' 'FU' 'FU' 'FU' 'FU' 'FU' 'FU' 'FU' 'FU' 'FU' 'FU' 'FU' 'FU'\n",
      " 'FU' 'O' 'O' 'O' 'O' 'O' 'O' 'O' 'O' 'O' 'O' 'O' 'O' 'O' 'O' 'O' 'O' 'O'\n",
      " 'O' 'O' 'O' 'RA' 'RA' 'RA' 'RA' 'RA' 'RA' 'RA' 'RA' 'RA' 'RA' 'RA' 'RA'\n",
      " 'RA' 'RA' 'RA' 'RA' 'RA' 'RA' 'RA' 'RA' 'SHI' 'SHI' 'SHI' 'SHI' 'SHI'\n",
      " 'SHI' 'SHI' 'SHI' 'SHI' 'SHI' 'SHI' 'SHI' 'SHI' 'SHI' 'SHI' 'SHI' 'SHI'\n",
      " 'SHI' 'SHI' 'SHI' 'JI' 'JI' 'JI' 'JI' 'JI' 'JI' 'JI' 'JI' 'JI' 'JI' 'JI'\n",
      " 'JI' 'JI' 'JI' 'JI' 'JI' 'JI' 'JI' 'JI' 'JI' 'TA' 'TA' 'TA' 'TA' 'TA'\n",
      " 'TA' 'TA' 'TA' 'TA' 'TA' 'TA' 'TA' 'TA' 'TA' 'TA' 'TA' 'TA' 'TA' 'TA'\n",
      " 'TA' 'HO' 'HO' 'HO' 'HO' 'HO' 'HO' 'HO' 'HO' 'HO' 'HO' 'HO' 'HO' 'HO'\n",
      " 'HO' 'HO' 'HO' 'HO' 'HO' 'HO' 'HO' 'TO' 'TO' 'TO' 'TO' 'TO' 'TO' 'TO'\n",
      " 'TO' 'TO' 'TO' 'TO' 'TO' 'TO' 'TO' 'TO' 'TO' 'TO' 'TO' 'TO' 'TO' 'WO'\n",
      " 'WO' 'WO' 'WO' 'WO' 'WO' 'WO' 'WO' 'WO' 'WO' 'WO' 'WO' 'WO' 'WO' 'WO'\n",
      " 'WO' 'WO' 'WO' 'WO' 'WO' 'YU' 'YU' 'YU' 'YU' 'YU' 'YU' 'YU' 'YU' 'YU'\n",
      " 'YU' 'YU' 'YU' 'YU' 'YU' 'YU' 'YU' 'YU' 'YU' 'YU' 'YU' 'SE' 'SE' 'SE'\n",
      " 'SE' 'SE' 'SE' 'SE' 'SE' 'SE' 'SE' 'SE' 'SE' 'SE' 'SE' 'SE' 'SE' 'SE'\n",
      " 'SE' 'SE' 'SE' 'RE' 'RE' 'RE' 'RE' 'RE' 'RE' 'RE' 'RE' 'RE' 'RE' 'RE'\n",
      " 'RE' 'RE' 'RE' 'RE' 'RE' 'RE' 'RE' 'RE' 'RE' 'CHI' 'CHI' 'CHI' 'CHI'\n",
      " 'CHI' 'CHI' 'CHI' 'CHI' 'CHI' 'CHI' 'CHI' 'CHI' 'CHI' 'CHI' 'CHI' 'CHI'\n",
      " 'CHI' 'CHI' 'CHI' 'CHI' 'NU' 'NU' 'NU' 'NU' 'NU' 'NU' 'NU' 'NU' 'NU' 'NU'\n",
      " 'NU' 'NU' 'NU' 'NU' 'NU' 'NU' 'NU' 'NU' 'NU' 'NU' 'NA' 'NA' 'NA' 'NA'\n",
      " 'NA' 'NA' 'NA' 'NA' 'NA' 'NA' 'NA' 'NA' 'NA' 'NA' 'NA' 'NA' 'NA' 'NA'\n",
      " 'NA' 'NA' 'RO' 'RO' 'RO' 'RO' 'RO' 'RO' 'RO' 'RO' 'RO' 'RO' 'RO' 'RO'\n",
      " 'RO' 'RO' 'RO' 'RO' 'RO' 'RO' 'RO' 'RO' 'KO' 'KO' 'KO' 'KO' 'KO' 'KO'\n",
      " 'KO' 'KO' 'KO' 'KO' 'KO' 'KO' 'KO' 'KO' 'KO' 'KO' 'KO' 'KO' 'KO' 'KO'\n",
      " 'SA' 'SA' 'SA' 'SA' 'SA' 'SA' 'SA' 'SA' 'SA' 'SA' 'SA' 'SA' 'SA' 'SA'\n",
      " 'SA' 'SA' 'SA' 'SA' 'SA' 'SA' 'KE' 'KE' 'KE' 'KE' 'KE' 'KE' 'KE' 'KE'\n",
      " 'KE' 'KE' 'KE' 'KE' 'KE' 'KE' 'KE' 'KE' 'KE' 'KE' 'KE' 'KE' 'NI' 'NI'\n",
      " 'NI' 'NI' 'NI' 'NI' 'NI' 'NI' 'NI' 'NI' 'NI' 'NI' 'NI' 'NI' 'NI' 'NI'\n",
      " 'NI' 'NI' 'NI' 'NI' 'HI' 'HI' 'HI' 'HI' 'HI' 'HI' 'HI' 'HI' 'HI' 'HI'\n",
      " 'HI' 'HI' 'HI' 'HI' 'HI' 'HI' 'HI' 'HI' 'HI' 'HI' 'BA' 'BA' 'BA' 'BA'\n",
      " 'BA' 'BA' 'BA' 'BA' 'BA' 'BA' 'BA' 'BA' 'BA' 'BA' 'BA' 'BA' 'BA' 'BA'\n",
      " 'BA' 'BA' 'WA' 'WA' 'WA' 'WA' 'WA' 'WA' 'WA' 'WA' 'WA' 'WA' 'WA' 'WA'\n",
      " 'WA' 'WA' 'WA' 'WA' 'WA' 'WA' 'WA' 'WA' 'KU' 'KU' 'KU' 'KU' 'KU' 'KU'\n",
      " 'KU' 'KU' 'KU' 'KU' 'KU' 'KU' 'KU' 'KU' 'KU' 'KU' 'KU' 'KU' 'KU' 'KU']\n"
     ]
    }
   ],
   "source": [
    "import numpy as np\n",
    "\n",
    "# Đọc dữ liệu từ file .npy\n",
    "data = np.load('Y.npy')\n",
    "\n",
    "# Hiển thị dữ liệu\n",
    "print(data)\n"
   ]
  },
  {
   "cell_type": "code",
   "execution_count": null,
   "id": "4e25698e-8f9c-4ad8-a403-5440ea3dc3be",
   "metadata": {},
   "outputs": [],
   "source": []
  }
 ],
 "metadata": {
  "kernelspec": {
   "display_name": "Python 3 (ipykernel)",
   "language": "python",
   "name": "python3"
  },
  "language_info": {
   "codemirror_mode": {
    "name": "ipython",
    "version": 3
   },
   "file_extension": ".py",
   "mimetype": "text/x-python",
   "name": "python",
   "nbconvert_exporter": "python",
   "pygments_lexer": "ipython3",
   "version": "3.10.11"
  }
 },
 "nbformat": 4,
 "nbformat_minor": 5
}
